{
 "cells": [
  {
   "cell_type": "code",
   "execution_count": 11,
   "metadata": {},
   "outputs": [],
   "source": [
    "import json\n",
    "from typing import Text\n",
    "def read_json(fileName: Text): \n",
    "    data = None\n",
    "    with open(fileName, 'r') as file: \n",
    "        data = json.loads(file.read())\n",
    "    return data\n",
    "\n",
    "data = read_json('data.json')"
   ]
  },
  {
   "cell_type": "code",
   "execution_count": null,
   "metadata": {},
   "outputs": [],
   "source": []
  },
  {
   "cell_type": "code",
   "execution_count": 12,
   "metadata": {},
   "outputs": [
    {
     "name": "stdout",
     "output_type": "stream",
     "text": [
      "1. Học bổng toàn phần: Học bổng này sẽ giúp cho sinh viên được miễn toàn bộ học phí và chi phí sinh hoạt và các chi phí phát sinh khác trong suốt quá trình học\n",
      "2. Học bổng bán phần: Học bổng này giúp cho sinh viên được miễn một phần học phí hoặc các chi phí phát sinh trong suốt qua trình học tập tại trường \n",
      "3. Học bổng khuyến học: Học bổng này dành cho những sinh viên có thành tích học tập xuất sắc trong các kỳ thi hoặc cả năm học\n",
      "4. Học bổng nghiên cứu khoa học: Học bổng nghiên cứu khoa học này hỗ trợ sinh viên thực hiện nghiên cứu khoa học trong lĩnh vực doanh nghiệp và kinh tế\n"
     ]
    }
   ],
   "source": [
    "rows = []\n",
    "values = data['scholarship'].values()\n",
    "index = 1\n",
    "\n",
    "for value in values: \n",
    "    rows.append(\"{}. {}: {}\".format(index, value['name'], value['description']))\n",
    "    index = index + 1\n",
    "message = '' if len(rows) == 0 else '\\n' .join(rows)\n",
    "print(message)"
   ]
  },
  {
   "cell_type": "markdown",
   "metadata": {},
   "source": [
    "###  LẤY THÔNG TIN SCHOLARSHIP CONDITION"
   ]
  },
  {
   "cell_type": "code",
   "execution_count": 13,
   "metadata": {},
   "outputs": [
    {
     "name": "stdout",
     "output_type": "stream",
     "text": [
      "Thành tích học tập: Ba năm đại học của bạn phải đủ trên 6.5 mới có đủ cơ hội xét tuyển\n",
      "Thành tích hoạt động ngoại khóa: Thành tích ngoại khóa bạn phải đạt ở thành tích cực tốt\n",
      "Điều kiện tài chính: Chứng minh tài chính đủ để để hoạt đông có thể đủ\n"
     ]
    }
   ],
   "source": [
    "scholarshipConditionsObj = data.get('scholarship_conditions')\n",
    "scholarshipConditionMes = map(lambda sub: '{}: {}'.format(sub.get('name'), sub.get('description')), list(scholarshipConditionsObj.values()))\n",
    "message = '\\n'.join(list(scholarshipConditionMes))\n",
    "print(message)\n"
   ]
  },
  {
   "cell_type": "markdown",
   "metadata": {},
   "source": [
    "### LẤY THỜI GIAN SCHOLARSHIP_TIME"
   ]
  },
  {
   "cell_type": "code",
   "execution_count": 14,
   "metadata": {},
   "outputs": [
    {
     "name": "stdout",
     "output_type": "stream",
     "text": [
      "Thời gian bạn hoàn thành cho đợt học bổng này 1 year\n"
     ]
    }
   ],
   "source": [
    "scholarshipTimeObj = data.get('scholarship_time')\n",
    "scholarshipTimeValue = scholarshipTimeObj.get('value')\n",
    "scholarshipTimeType = scholarshipTimeObj.get('type')\n",
    "\n",
    "message = 'Thời gian bạn hoàn thành cho đợt học bổng này {} {}'.format(scholarshipTimeValue, scholarshipTimeType)\n",
    "print(message)"
   ]
  },
  {
   "cell_type": "code",
   "execution_count": 26,
   "metadata": {},
   "outputs": [
    {
     "name": "stdout",
     "output_type": "stream",
     "text": [
      "Hạn cuối nộp hồ sơ vào ngày 29 tháng 1 năm 2023 vào lúc 2023\n"
     ]
    }
   ],
   "source": [
    "from datetime import datetime\n",
    "scholarshipDeadlineValue = data.get('deadline')\n",
    "datePattern = \"%d-%m-%Y %H:%M:%S\"\n",
    "dateScholarshipDeadlineObj = datetime.strptime(str(scholarshipDeadlineValue),datePattern)\n",
    "message = 'Hạn cuối nộp hồ sơ vào ngày {} tháng {} năm {} vào lúc {}'.format(dateScholarshipDeadlineObj.day, dateScholarshipDeadlineObj.month, dateScholarshipDeadlineObj.year, dateScholarshipDeadlineObj.year, dateScholarshipDeadlineObj.hour)\n",
    "print(message)"
   ]
  }
 ],
 "metadata": {
  "kernelspec": {
   "display_name": "Python 3",
   "language": "python",
   "name": "python3"
  },
  "language_info": {
   "codemirror_mode": {
    "name": "ipython",
    "version": 3
   },
   "file_extension": ".py",
   "mimetype": "text/x-python",
   "name": "python",
   "nbconvert_exporter": "python",
   "pygments_lexer": "ipython3",
   "version": "3.11.1"
  },
  "orig_nbformat": 4
 },
 "nbformat": 4,
 "nbformat_minor": 2
}
