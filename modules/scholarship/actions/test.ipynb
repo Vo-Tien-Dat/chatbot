{
 "cells": [
  {
   "cell_type": "code",
   "execution_count": 5,
   "metadata": {},
   "outputs": [],
   "source": [
    "import json\n",
    "from typing import Text\n",
    "def read_json(fileName: Text): \n",
    "    data = None\n",
    "    with open(fileName, 'r') as file: \n",
    "        data = json.loads(file.read())\n",
    "    return data\n",
    "\n",
    "data = read_json('data.json')"
   ]
  },
  {
   "cell_type": "code",
   "execution_count": 6,
   "metadata": {},
   "outputs": [
    {
     "name": "stdout",
     "output_type": "stream",
     "text": [
      "1. Học bổng toàn phần: Học bổng này sẽ giúp cho sinh viên được miễn toàn bộ học phí và chi phí sinh hoạt và các chi phí phát sinh khác trong suốt quá trình học\n",
      "2. Học bổng bán phần: Học bổng này giúp cho sinh viên được miễn một phần học phí hoặc các chi phí phát sinh trong suốt qua trình học tập tại trường \n",
      "3. Học bổng khuyến học: Học bổng này dành cho những sinh viên có thành tích học tập xuất sắc trong các kỳ thi hoặc cả năm học\n",
      "4. Học bổng nghiên cứu khoa học: Học bổng nghiên cứu khoa học này hỗ trợ sinh viên thực hiện nghiên cứu khoa học trong lĩnh vực doanh nghiệp và kinh tế\n"
     ]
    }
   ],
   "source": [
    "rows = []\n",
    "values = data['scholarship'].values()\n",
    "index = 1\n",
    "\n",
    "for value in values: \n",
    "    rows.append(\"{}. {}: {}\".format(index, value['name'], value['description']))\n",
    "    index = index + 1\n",
    "message = '' if len(rows) == 0 else '\\n' .join(rows)\n",
    "print(message)"
   ]
  }
 ],
 "metadata": {
  "kernelspec": {
   "display_name": "Python 3",
   "language": "python",
   "name": "python3"
  },
  "language_info": {
   "codemirror_mode": {
    "name": "ipython",
    "version": 3
   },
   "file_extension": ".py",
   "mimetype": "text/x-python",
   "name": "python",
   "nbconvert_exporter": "python",
   "pygments_lexer": "ipython3",
   "version": "3.11.1"
  },
  "orig_nbformat": 4
 },
 "nbformat": 4,
 "nbformat_minor": 2
}
