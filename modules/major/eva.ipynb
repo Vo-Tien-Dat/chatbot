{
 "cells": [
  {
   "cell_type": "code",
   "execution_count": null,
   "metadata": {},
   "outputs": [],
   "source": [
    "import json\n",
    "def list_courses(json_data): \n",
    "    \n",
    "    data = json.load(json_data)\n",
    "    courses = list(data['data'].values())\n",
    "    return courses\n",
    "\n",
    "data = {\n",
    "\n",
    "}"
   ]
  }
 ],
 "metadata": {
  "language_info": {
   "name": "python"
  },
  "orig_nbformat": 4
 },
 "nbformat": 4,
 "nbformat_minor": 2
}
