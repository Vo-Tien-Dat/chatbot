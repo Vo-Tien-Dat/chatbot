{
 "cells": [
  {
   "cell_type": "code",
   "execution_count": 40,
   "metadata": {},
   "outputs": [],
   "source": [
    "import json\n",
    "def read_json(fileName): \n",
    "    data = None\n",
    "    with open(fileName, 'r') as file: \n",
    "        data = json.loads(file.read())\n",
    "    return data\n",
    "\n",
    "data = read_json('data.json')"
   ]
  },
  {
   "cell_type": "markdown",
   "metadata": {},
   "source": [
    "#### LIỆT KÊ NHỮNG PHƯƠNG THỨC XÉT TUYỂN ĐẠI HỌC"
   ]
  },
  {
   "cell_type": "code",
   "execution_count": null,
   "metadata": {},
   "outputs": [],
   "source": []
  },
  {
   "cell_type": "code",
   "execution_count": 41,
   "metadata": {},
   "outputs": [
    {
     "name": "stdout",
     "output_type": "stream",
     "text": [
      "phương thức tuyển thẳng:Dành cho những học sinh giỏi quốc gia đạt từ giải ba quốc gia trở lên\n",
      "phương thức qua thi trung học phổ thông quốc gia:Căn cứ vào điểm thi và điểm đầu vào để xét tuyển\n",
      "phương thức tuyển thẳng bằng IELTS:Với những bẳng IELTS từ 5.5 trở đi\n"
     ]
    }
   ],
   "source": [
    "values = data['admission_method'].values()\n",
    "rows = []\n",
    "for value in values: \n",
    "    rows.append(\"{}:{}\".format(value['name'], value['description']))\n",
    "\n",
    "message = '' if len(rows) == 0 else '\\n' .join(rows)\n",
    "\n",
    "print(message)"
   ]
  },
  {
   "cell_type": "markdown",
   "metadata": {},
   "source": [
    "#### LIỆT KÊ NHỮNG ĐIỂU KIỆN ĐỦ ĐỂ TUYỂN SINH"
   ]
  },
  {
   "cell_type": "code",
   "execution_count": 42,
   "metadata": {},
   "outputs": [
    {
     "name": "stdout",
     "output_type": "stream",
     "text": [
      "1:Tốt nghiệp THPT hoặc tương đương.\n",
      "2:Điểm trung bình cộng các môn trong bảng điểm THPT đạt từ 6.5 trở lên (hoặc tương đương).\n",
      "3:Điểm thi đạt từng môn trong kỳ thi THPT quốc gia không thấp hơn mức điểm qui định của Bộ Giáo dục và Đào tạo (thường là 5 điểm).\n",
      "4:Đạt kết quả thi đánh giá năng lưc hà nội\n",
      "5:Đạt kết quả xét tuyển theo phương thức xét học bạ hoặc thi tuyển.\n"
     ]
    }
   ],
   "source": [
    "rows = []\n",
    "values = data['admission_conditions'].values()\n",
    "index = 1\n",
    "for value in values: \n",
    "    rows.append(\"{}:{}\".format(index, value['description']))\n",
    "    index = index + 1\n",
    "\n",
    "message = '' if len(rows) == 0 else '\\n' .join(rows)\n",
    "print(message)"
   ]
  },
  {
   "cell_type": "markdown",
   "metadata": {},
   "source": [
    "### Chi phí học của của từng ngành"
   ]
  },
  {
   "cell_type": "code",
   "execution_count": 43,
   "metadata": {},
   "outputs": [
    {
     "data": {
      "text/plain": [
       "100000000"
      ]
     },
     "execution_count": 43,
     "metadata": {},
     "output_type": "execute_result"
    }
   ],
   "source": [
    "from typing import Text\n",
    "\n",
    "def SolTrainingCosts(majorName, data):\n",
    "    value = data[majorName]['credit']['value']\n",
    "    number = data[majorName]['number']\n",
    "    cost = int(value) * int(number)\n",
    "    return cost\n",
    "\n",
    "SolTrainingCosts('information_technology',data['training_costs'])"
   ]
  },
  {
   "cell_type": "markdown",
   "metadata": {},
   "source": [
    "### LẤY DỮ LIỆU EMPLOYMENT OPPORTUNITITIES"
   ]
  },
  {
   "cell_type": "code",
   "execution_count": 44,
   "metadata": {},
   "outputs": [],
   "source": [
    "employmentOpportunitiesObj = data.get('employment_opportunities')\n",
    "\n",
    "employeeRate = employmentOpportunitiesObj.get('employee_rate')\n",
    "jobSearchDurationValue = employmentOpportunitiesObj.get('job_search_duration').get('value')\n",
    "jobSearchDurationType = employmentOpportunitiesObj.get('job_search_duration').get('type')\n",
    "salaryValue = employmentOpportunitiesObj.get('salary').get('value')\n",
    "salaryType = employmentOpportunitiesObj.get('salary').get('type')"
   ]
  },
  {
   "cell_type": "markdown",
   "metadata": {},
   "source": [
    "### LẤY DỮ LIỆU STUDENT ACTIVITIES"
   ]
  },
  {
   "cell_type": "code",
   "execution_count": 45,
   "metadata": {},
   "outputs": [
    {
     "name": "stdout",
     "output_type": "stream",
     "text": [
      "ITMC: Câu lạc bộ về Lập trình thi đấu\n",
      "Kết nối: Câu lạc bộ kết nối\n"
     ]
    }
   ],
   "source": [
    "studentActivitiesObj = data.get('student_activities')\n",
    "\n",
    "clubAndStudentOrganizationObj = studentActivitiesObj.get('club_and_student_organization')\n",
    "workshopAndEventsObj =  studentActivitiesObj.get('workshop_and_events')\n",
    "internshipAndPracticeTrainingObj = studentActivitiesObj.get('internship_and_practice_training')\n",
    "scientificResearchObj = studentActivitiesObj.get('scientific_research')\n",
    "\n",
    "\n",
    "clubAndStudentOrganizationIter = map(lambda sub: '{}: {}'.format(sub.get('name'), sub.get('description')), list(clubAndStudentOrganizationObj.values()));\n",
    "\n",
    "rows = list(clubAndStudentOrganizationIter)\n",
    "\n",
    "message = '\\n'.join(rows)\n",
    "print(message)"
   ]
  }
 ],
 "metadata": {
  "kernelspec": {
   "display_name": "Python 3",
   "language": "python",
   "name": "python3"
  },
  "language_info": {
   "codemirror_mode": {
    "name": "ipython",
    "version": 3
   },
   "file_extension": ".py",
   "mimetype": "text/x-python",
   "name": "python",
   "nbconvert_exporter": "python",
   "pygments_lexer": "ipython3",
   "version": "3.11.1"
  },
  "orig_nbformat": 4
 },
 "nbformat": 4,
 "nbformat_minor": 2
}
